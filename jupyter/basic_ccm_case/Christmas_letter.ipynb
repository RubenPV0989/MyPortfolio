{
 "cells": [
  {
   "cell_type": "markdown",
   "id": "8e7774eb-640a-42a2-9edf-1301cc7b1691",
   "metadata": {},
   "source": [
    "## Prepare environment"
   ]
  },
  {
   "cell_type": "code",
   "execution_count": 12,
   "id": "826c6f65-2fd0-47eb-8806-a7ae58ed820e",
   "metadata": {
    "tags": []
   },
   "outputs": [],
   "source": [
    "import os\n",
    "import random \n",
    "import csv \n",
    "\n",
    "from reportlab.pdfgen import canvas\n",
    "from reportlab.pdfbase import pdfmetrics\n",
    "from reportlab.pdfbase.ttfonts import TTFont\n",
    "\n",
    "import email.message\n",
    "import mimetypes\n",
    "import smtplib"
   ]
  },
  {
   "cell_type": "markdown",
   "id": "07760581-69b6-4e39-b860-016f321a83e3",
   "metadata": {},
   "source": [
    "## Prepare variables"
   ]
  },
  {
   "cell_type": "code",
   "execution_count": 10,
   "id": "a592c307-bd9e-475a-ab92-42f6aedbece7",
   "metadata": {
    "tags": []
   },
   "outputs": [],
   "source": [
    "images = [os.path.join('img',img) for img in os.listdir('img')]\n",
    "friends_source = open(os.path.join('data','friends.csv'), \"r\", encoding = 'utf-8')\n",
    "csv_reader = csv.reader(friends_source)\n",
    "friends = [tuple(friend) for friend in csv_reader][1:]\n",
    "friends_source.close()"
   ]
  },
  {
   "cell_type": "code",
   "execution_count": 11,
   "id": "43865199-fd45-4551-8bf5-79a60d0ee536",
   "metadata": {
    "tags": []
   },
   "outputs": [
    {
     "data": {
      "text/plain": [
       "('Cesar', 'perezvaldesruben@gmail.com', '+525534600793')"
      ]
     },
     "execution_count": 11,
     "metadata": {},
     "output_type": "execute_result"
    }
   ],
   "source": [
    "friends[0]"
   ]
  },
  {
   "cell_type": "code",
   "execution_count": 3,
   "id": "179b5eea-b830-4bfa-bfff-2f9f9f58fbba",
   "metadata": {
    "tags": []
   },
   "outputs": [],
   "source": [
    "image_settings = {'image1.webp':{'initial_width':115, 'font_color':(255, 232, 0)}, \n",
    "                  'image3.webp':{'initial_width':115, 'font_color':(255, 232, 0)}, \n",
    "                  'image2.webp':{'initial_width':80, 'font_color':(255, 232, 0)},\n",
    "                  'image4.jpg':{'initial_width':115, 'font_color':(255, 255, 255)},\n",
    "                  'image5.jpg':{'initial_width':10, 'font_color':(255, 255, 255)}}"
   ]
  },
  {
   "cell_type": "markdown",
   "id": "b106c801-cfe8-41c5-83ec-ad2d4cd6ce0c",
   "metadata": {},
   "source": [
    "## Prepare functions"
   ]
  },
  {
   "cell_type": "code",
   "execution_count": 4,
   "id": "a43b3dcc-aeb6-46ae-89b4-187e49b1276d",
   "metadata": {
    "tags": []
   },
   "outputs": [],
   "source": [
    "def create_christmas_letter(friends, images, image_settings):\n",
    "    \"\"\"\n",
    "    friends: list of tuples where the first element is a string representing a person's name.\n",
    "    images: is a list of paths where the letter background images are stored.\n",
    "    image_settings: is a dictionary having image name as key value and a nested key as corresponding value, for example:\n",
    "     {'image1.webp':{'initial_width':115, 'font_color':(255, 232, 0)}}\n",
    "    \n",
    "    \"\"\"\n",
    "    for friend in friends:\n",
    "        img = images[random.randint(0,len(images)-1)]\n",
    "        img_name = img.split('\\\\')[-1]\n",
    "        RGB_val = image_settings[img_name]['font_color']\n",
    "        start_point_width = image_settings[img_name]['initial_width']\n",
    "        start_point_height = 140\n",
    "    \n",
    "        title = f'Dear {friend[0]},'\n",
    "        message = ['Merry Christmas!','','Thank you for the valuable gift','of your friendship.','','With love,','                César']\n",
    "        filename = os.path.join('out',friend[0]+'.pdf')\n",
    "    \n",
    "        letter = canvas.Canvas(filename)\n",
    "        pdfmetrics.registerFont(TTFont('Edwardian', 'ITCEDSCR.ttf'))\n",
    "    \n",
    "        letter.setPageSize((230, 180))\n",
    "        letter.drawImage(img,0,0, 230, 180)\n",
    "        letter.setFillColorRGB(RGB_val[0], RGB_val[1], RGB_val[2])\n",
    "        letter.setFont('Edwardian', 20)\n",
    "        letter.drawString(start_point_width, 160, title)\n",
    "        \n",
    "        height = start_point_height\n",
    "        letter.setFont('Edwardian', 13)\n",
    "        for phrase in message:\n",
    "            letter.drawString(start_point_width, height, phrase)\n",
    "            height = height - 15\n",
    "        letter.save()\n",
    "    return"
   ]
  },
  {
   "cell_type": "code",
   "execution_count": 6,
   "id": "35a7e245-4f26-48e0-8aae-8e977602e630",
   "metadata": {
    "tags": []
   },
   "outputs": [],
   "source": [
    "def generate_email(friends, letter_path):\n",
    "    \"\"\"\n",
    "    friends: list of tuples where the first element is a string representing a person's name, the second element is an email.\n",
    "    letter_path: path to the folder where a set of pdf letters are being stored. \n",
    "    \"\"\"\n",
    "    for friend in friends:\n",
    "        smtp = smtplib.SMTP_SSL(\"smtp.gmail.com\")\n",
    "        smtp.login('perezvaldesruben@gmail.com', \"zxijjpzspchylslm\")\n",
    "        message = email.message.EmailMessage()\n",
    "        message[\"From\"] = 'perezvaldesruben@gmail.com'\n",
    "        message[\"To\"] = friend[1]\n",
    "        message[\"Subject\"] = 'Merry Christmas!'\n",
    "        message.set_content(f'Hello {friend[0]}!!\\n\\nI wish you the merriest of christmas!')\n",
    "\n",
    "        pdf_path = os.path.join(letter_path, friend[0]+'.pdf')\n",
    "        mime_type, _ = mimetypes.guess_type(pdf_path)\n",
    "        mime_type, mime_subtype = mime_type.split('/', 1)\n",
    "    \n",
    "        with open(pdf_path, 'rb') as ap:\n",
    "            message.add_attachment(ap.read(),maintype=mime_type,subtype=mime_subtype,filename=friend[0]+'.pdf')\n",
    "            \n",
    "        smtp.send_message(message)\n",
    "        smtp.quit()\n",
    "    return "
   ]
  },
  {
   "cell_type": "markdown",
   "id": "180f5eec-dbe8-49a4-8784-cdac361ae8b9",
   "metadata": {},
   "source": [
    "## Test Run"
   ]
  },
  {
   "cell_type": "code",
   "execution_count": 5,
   "id": "f3094dd2-c264-4cf8-8359-4365367126e0",
   "metadata": {
    "tags": []
   },
   "outputs": [],
   "source": [
    "create_christmas_letter(friends, images, image_settings)"
   ]
  },
  {
   "cell_type": "code",
   "execution_count": 7,
   "id": "92eb7930-bf83-48ec-bf4e-5ec7a956ff78",
   "metadata": {
    "tags": []
   },
   "outputs": [],
   "source": [
    "generate_email(friends[0:1], 'out')"
   ]
  },
  {
   "cell_type": "code",
   "execution_count": null,
   "id": "bcd30966-171a-44e0-aa71-01da2de8ee0b",
   "metadata": {},
   "outputs": [],
   "source": []
  }
 ],
 "metadata": {
  "kernelspec": {
   "display_name": "Python 3 (ipykernel)",
   "language": "python",
   "name": "python3"
  },
  "language_info": {
   "codemirror_mode": {
    "name": "ipython",
    "version": 3
   },
   "file_extension": ".py",
   "mimetype": "text/x-python",
   "name": "python",
   "nbconvert_exporter": "python",
   "pygments_lexer": "ipython3",
   "version": "3.9.13"
  }
 },
 "nbformat": 4,
 "nbformat_minor": 5
}
