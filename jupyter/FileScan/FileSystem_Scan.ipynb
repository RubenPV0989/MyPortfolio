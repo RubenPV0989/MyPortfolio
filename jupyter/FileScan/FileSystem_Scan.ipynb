{
 "cells": [
  {
   "attachments": {},
   "cell_type": "markdown",
   "metadata": {},
   "source": [
    "# Using Recursive Functions to Scan the File System\n",
    "by César Pérez\n"
   ]
  },
  {
   "attachments": {},
   "cell_type": "markdown",
   "metadata": {},
   "source": [
    "## Introduction. \n",
    "\n",
    "In this article, I'll present an example to scan and extract information from our file system using [recursive functions](https://www.w3schools.com/python/gloss_python_function_recursion.asp). We'll define our goal as to:\n",
    "\n",
    "* Iterate each file/directory starting from an specified root path inside our file system. \n",
    "* Save the filename and size of each element inside a dictionary.\n",
    "* Format our data in diverse ways to be used by different components.\n",
    "* Create visual representations of our data.\n",
    "* Display these visual representations inside an HTML report for our final users. "
   ]
  },
  {
   "attachments": {},
   "cell_type": "markdown",
   "metadata": {},
   "source": [
    "## Step 1. Create functions."
   ]
  },
  {
   "attachments": {},
   "cell_type": "markdown",
   "metadata": {},
   "source": [
    "### File_Scan\n",
    "\n",
    "This funtion will scan our file system by using os.list() to extract the content of a target folder and recursing when finding a subdirectory. For the purposes of this article, I will exclude everything on my .git folder."
   ]
  },
  {
   "cell_type": "code",
   "execution_count": null,
   "metadata": {},
   "outputs": [],
   "source": [
    "import os\n",
    "import pandas as pd\n",
    "import re \n",
    "from treelib import Node, Tree\n",
    "from operator import itemgetter\n",
    "\n",
    "#creates the file system map\n",
    "def file_scan(root_dir):\n",
    "    current_path = os.listdir(root_dir)\n",
    "    file_count = 0 \n",
    "    file_list = []\n",
    "    dir_count = 0\n",
    "    dir_dict = {}\n",
    "    \n",
    "    for element in current_path:\n",
    "        next_path = os.path.join(root_dir, element)\n",
    "        if os.path.isdir(next_path) and element != '.git':\n",
    "            dir_count += 1\n",
    "            dir_dict[element] = file_scan(next_path)\n",
    "        elif element != '.git':\n",
    "            file_count += 1\n",
    "            file_list.append({'name':element, 'size': os.stat(next_path).st_size})\n",
    "        dir_dict['total_files'] = file_count\n",
    "        dir_dict['total_directories'] = dir_count\n",
    "        dir_dict['files'] = file_list\n",
    "    return dir_dict"
   ]
  },
  {
   "attachments": {},
   "cell_type": "markdown",
   "metadata": {},
   "source": [
    "### create_tree and create_node\n",
    "\n",
    "These two funtions will help us to create a tree-like representation of the file system, the library we are using is [treelib](https://treelib.readthedocs.io/en/latest/). "
   ]
  },
  {
   "cell_type": "code",
   "execution_count": null,
   "metadata": {},
   "outputs": [],
   "source": [
    "def create_tree(dir_dict):\n",
    "    tree = Tree()\n",
    "    tree.create_node(\"*\", \"root\")\n",
    "    for element in dir_dict:\n",
    "        if type(dir_dict[element]) == dict:\n",
    "            tree.create_node(element,  element, parent=\"root\")\n",
    "            create_node(dir_dict[element], element, tree)\n",
    "        elif type(dir_dict[element]) == list:\n",
    "            for list_element in dir_dict[element]:\n",
    "                tree.create_node(list_element['name'],  list_element['name'], parent=\"root\")\n",
    "    return tree\n",
    "\n",
    "#Fuction complementary to create_tree()\n",
    "def create_node(child_dict,level, tree):\n",
    "    for element in child_dict:\n",
    "        if type(child_dict[element]) == dict:\n",
    "            tree.create_node(element,  element, parent=level)\n",
    "            create_node(child_dict[element], element, tree)\n",
    "        elif type(child_dict[element]) == list:\n",
    "            for list_element in child_dict[element]:\n",
    "                tree.create_node(list_element['name'],  list_element['name'], parent=level)\n",
    "    return"
   ]
  },
  {
   "attachments": {},
   "cell_type": "markdown",
   "metadata": {},
   "source": [
    "### creates_summary and append_summary\n",
    "\n",
    "These funtions will create two outputs:\n",
    "\n",
    "1. Pandas dataframe parsed as HTML.\n",
    "2. An array that will be parsed by a JS dynamic chart (we will further explore this later)."
   ]
  },
  {
   "cell_type": "code",
   "execution_count": null,
   "metadata": {},
   "outputs": [],
   "source": [
    "def creates_summary(dir_dict):\n",
    "    summary_df = pd.DataFrame()\n",
    "    summary_count = {}\n",
    "    summary_size = {}\n",
    "    pie_chart_data = []\n",
    "    for element in dir_dict:\n",
    "        if type(dir_dict[element]) == dict:\n",
    "            append_summary(dir_dict[element], summary_count, summary_size)\n",
    "        elif type(dir_dict[element]) == list:\n",
    "            for list_element in dir_dict[element]:\n",
    "                file_ext = re.search('[\\w ]*\\.([\\w]*)', list_element['name']).group(1)\n",
    "                summary_count[file_ext] = summary_count.get(file_ext,0) + 1\n",
    "                summary_size[file_ext] = summary_size.get(file_ext,0) + (list_element['size']/1000) #Represents KB\n",
    "    \n",
    "    for element in summary_count:\n",
    "        summary_df.loc[element, 'count'] = summary_count[element]\n",
    "        summary_df.loc[element, 'size_KB'] = round(summary_size[element],2)\n",
    "        pie_chart_data.append([element, summary_size[element]])\n",
    "    \n",
    "    pie_chart_data = sorted(pie_chart_data, key=itemgetter(1), reverse=True)\n",
    "    pie_chart_data.insert(0, ['File type', 'Size'])\n",
    "\n",
    "    summary_df['size_%'] = round((summary_df['size_KB'].astype(float) / summary_df['size_KB'].sum()) *100,2)\n",
    "    summary_df = summary_df.sort_values(by=['size_%'], ascending=False)\n",
    "    return summary_df.to_html(justify = 'center'), pie_chart_data\n",
    "\n",
    "#Fuction complementary to creates_summary()\n",
    "def append_summary(child_dict, summary_count, summary_size):\n",
    "    for element in child_dict:\n",
    "        if type(child_dict[element]) == dict:\n",
    "            append_summary(child_dict[element], summary_count, summary_size)\n",
    "        elif type(child_dict[element]) == list:\n",
    "            for list_element in child_dict[element]:\n",
    "                file_ext = re.search('[\\w ]*\\.([\\w]*)', list_element['name']).group(1)\n",
    "                summary_count[file_ext] = summary_count.get(file_ext,0) + 1\n",
    "                summary_size[file_ext] = summary_size.get(file_ext,0) + (list_element['size']/1000) #Represents KB\n",
    "    return"
   ]
  },
  {
   "attachments": {},
   "cell_type": "markdown",
   "metadata": {},
   "source": [
    "## Step 2. Generate Data\n",
    "\n",
    "Now that our functions have been declared, its time to execute them to gather the data about our file system we want to explore and share. Each of the following three cells will print the final outcome so we have a better understanding of what will be sending to the html report."
   ]
  },
  {
   "cell_type": "code",
   "execution_count": null,
   "metadata": {},
   "outputs": [],
   "source": [
    "#1. gets notebook dir\n",
    "dirname = os.getcwd()\n",
    "\n",
    "#2. Creates main dict to create objects\n",
    "main_dict = file_scan(os.path.join(dirname, '..//..'))\n",
    "main_dict"
   ]
  },
  {
   "cell_type": "code",
   "execution_count": null,
   "metadata": {},
   "outputs": [],
   "source": [
    "#3. File tree\n",
    "tree_filename = os.path.join(dirname, 'tree.txt')\n",
    "file_tree = create_tree(main_dict)\n",
    "\n",
    "file_tree.save2file(tree_filename)\n",
    "tree_txt_reader = open(tree_filename, 'r', encoding='utf-8')\n",
    "tree_txt = \"\"\n",
    "\n",
    "for line in tree_txt_reader.readlines():\n",
    "    line = '<pre>'+line+'</pre>'\n",
    "    tree_txt += line\n",
    "\n",
    "tree_txt_reader.close()\n",
    "os.remove(tree_filename)\n",
    "tree_txt"
   ]
  },
  {
   "cell_type": "code",
   "execution_count": null,
   "metadata": {},
   "outputs": [],
   "source": [
    "#4. Pie Chart and table\n",
    "table_summary, pie_chart = creates_summary(main_dict)\n",
    "table_summary"
   ]
  },
  {
   "cell_type": "code",
   "execution_count": null,
   "metadata": {},
   "outputs": [],
   "source": [
    "pie_chart"
   ]
  },
  {
   "attachments": {},
   "cell_type": "markdown",
   "metadata": {},
   "source": [
    "## Step 3. Create HTML report\n",
    "\n",
    "For the purposes of this article, I've decided to use a simple approach. I've created an [empty template](template.html), then python will read this file, and insert the system data by using placeholders. Finally, the result is written into a different file."
   ]
  },
  {
   "cell_type": "code",
   "execution_count": null,
   "metadata": {},
   "outputs": [
    {
     "data": {
      "text/plain": [
       "4725"
      ]
     },
     "execution_count": 29,
     "metadata": {},
     "output_type": "execute_result"
    }
   ],
   "source": [
    "# #5. Create report\n",
    "template_filename = os.path.join(dirname, 'template.html')\n",
    "\n",
    "template_reader = open(template_filename, 'r')\n",
    "template_content = template_reader.read()\n",
    "template_reader.close()\n",
    "\n",
    "new_content = re.sub(\"pie_chart_data_goes_here\", str(pie_chart), template_content)\n",
    "new_content = re.sub(\"table_goes_here\", str(table_summary), new_content)\n",
    "new_content = re.sub(\"file_tree_goes_here\", tree_txt, new_content)\n",
    "\n",
    "report_filename = os.path.join(dirname, 'report.html')\n",
    "template_writer = open(report_filename, 'w', encoding=\"utf-8\")\n",
    "template_writer.write(new_content)"
   ]
  },
  {
   "attachments": {},
   "cell_type": "markdown",
   "metadata": {},
   "source": [
    "The dashboard, at the point of uploading this notebook is quite simple, some aspects to keep in mind:\n",
    "* Three divs, each having one of our objects.\n",
    "* css is declared at the head tag.\n",
    "* The pie chart is build using Google Charts, you can find the documentation [here](https://developers.google.com/chart/interactive/docs/gallery/piechart)."
   ]
  },
  {
   "attachments": {},
   "cell_type": "markdown",
   "metadata": {},
   "source": [
    "# [Here is the final report!](report.html)"
   ]
  }
 ],
 "metadata": {
  "kernelspec": {
   "display_name": "base",
   "language": "python",
   "name": "python3"
  },
  "language_info": {
   "codemirror_mode": {
    "name": "ipython",
    "version": 3
   },
   "file_extension": ".py",
   "mimetype": "text/x-python",
   "name": "python",
   "nbconvert_exporter": "python",
   "pygments_lexer": "ipython3",
   "version": "3.9.12 (main, Apr  4 2022, 05:22:27) [MSC v.1916 64 bit (AMD64)]"
  },
  "orig_nbformat": 4,
  "vscode": {
   "interpreter": {
    "hash": "61f5f435aefafcf0962d72e5cb9770360fbda3f87d7989a0ed0fb4a7d81254de"
   }
  }
 },
 "nbformat": 4,
 "nbformat_minor": 2
}
