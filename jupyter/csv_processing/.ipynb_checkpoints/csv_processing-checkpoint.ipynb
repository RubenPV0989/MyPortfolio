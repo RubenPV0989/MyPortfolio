{
 "cells": [
  {
   "cell_type": "markdown",
   "id": "be90b4f2-f21e-4a17-8c0c-3a51be54051c",
   "metadata": {},
   "source": [
    "## Manual Processing of CSV Files in Python\n",
    "\n",
    "By Cesar Perez"
   ]
  },
  {
   "cell_type": "markdown",
   "id": "955b54db-0f49-4130-aede-c65135483fd3",
   "metadata": {},
   "source": [
    "## Introduction."
   ]
  },
  {
   "cell_type": "markdown",
   "id": "9661d3f8-883d-4586-ac6b-9fde7d31bd0f",
   "metadata": {},
   "source": [
    "The goal of this exercise is to write a code capable of:\n",
    "\n",
    "1. Open csv/txt files.\n",
    "2. Summarize data by a set of given parameters.\n",
    "3. Output the summary as a dictionary.\n",
    "\n",
    "The exercise is focused on string manipulation and data structures, thus I won't use common data manupulation libraries such as Pandas or CSV. Under situations where memory is limited but big datasets needs to be analysed, the proposed function should serve as a workaround.\n",
    "\n",
    "For demostration, I'm using the open dataset supermarket-sales.csv available on Kaggle, you can download it [from here](https://www.kaggle.com/datasets/aungpyaeap/supermarket-sales/data) "
   ]
  },
  {
   "cell_type": "markdown",
   "id": "ccb4e31e-53a8-4f4b-8670-31141fcdc9af",
   "metadata": {},
   "source": [
    "## Defining Functions."
   ]
  },
  {
   "cell_type": "markdown",
   "id": "14d6ca9b-9740-40b8-bd59-cc26ed2dd3ef",
   "metadata": {},
   "source": [
    "To achieve the goal defined earlier, I defined multiple functions, here is an overview:\n",
    "\n",
    "1. **csv2summary**. This is the main function, it opens the csv file, iterate on its rows and process the final summary by using the rest of functions bellow.\n",
    "2. **transform_dict**. Transforms a dictionary that stores the csv relevant values into a nested structure.\n",
    "3. **dict_addition**. In charge of the cummulative operations.\n",
    "4. **filter_values**. In charge of deciding if a rows should be ignored or not based on the user's given parameters.\n",
    "5. **sum_values**. Performs a sum of values.\n",
    "6. **mean_values**. Returns a tuple having sum, count and mean of values\n",
    "7. **adjust_line**. it detects if a delimiter character is in between quotation characters that can potentially break the csv integrity and removes them. "
   ]
  },
  {
   "cell_type": "markdown",
   "id": "94cd0f85-1563-422a-b764-d8a500543e93",
   "metadata": {},
   "source": [
    "### transform_dict.\n",
    "\n",
    "If we want to summarize a csv file, we should be start by relating columns and values by using dictionaries, where the key value would represent the column/field name and the value would represent the content of a cell or a column. We can know the column sequence by reading the first row of the csv or by introducing it as a list. \n",
    "\n",
    "Starting from this basic structure, we can summarize the data if we create a new dictionary where the category values we are interested in are converted into keys storing the final values. If we want to sumarize by more than one field, then we must nest dictionaries, in the way that the combination of values A and C is kept independent of other combinations, for example, B and C and so on. The function bellow handles this transformation.\n",
    "\n",
    "In the example bellow, I'm interested in summarizing my data by two categorical fields: Branch and Custumer type. Branch has three possible values 'A', 'B' and 'C', while Custumer type can be 'Member' or 'Normal'. Gross Income and Rating are the numerical fields I want to summarize, the input dictionary bellow represents a single row."
   ]
  },
  {
   "cell_type": "code",
   "execution_count": 11,
   "id": "ef3ee7bd-4408-4e45-aab4-e5d14ecd54c3",
   "metadata": {},
   "outputs": [],
   "source": [
    "def transform_dict(in_dict,append,index_list,max_level,append_len, level = 0):\n",
    "    if level < max_level:\n",
    "        new_key = list(append.values())[level]\n",
    "        in_dict[new_key] = {}\n",
    "        level += 1\n",
    "        transform_dict(in_dict[new_key], append, index_list, max_level,append_len,level)\n",
    "    elif level >= max_level and level < append_len:\n",
    "        new_key = list(append.keys())[level]\n",
    "        new_value = list(append.values())[level]\n",
    "        in_dict[new_key] = float(new_value)\n",
    "        level += 1\n",
    "        transform_dict(in_dict, append, index_list, max_level,append_len,level)\n",
    "    return in_dict"
   ]
  },
  {
   "cell_type": "code",
   "execution_count": 12,
   "id": "623264b1-aa08-4d0f-b28b-a5016f59d79d",
   "metadata": {},
   "outputs": [
    {
     "name": "stdout",
     "output_type": "stream",
     "text": [
      "{'A': {'Member': {'gross income': 30.91, 'Rating': 6.6}}}\n"
     ]
    }
   ],
   "source": [
    "print(transform_dict({},{'Branch': 'A', 'Customer type': 'Member', 'gross income': '30.91', 'Rating': '6.6'},['Branch','Customer type'],2,4))"
   ]
  },
  {
   "cell_type": "markdown",
   "id": "e4e633ab-f4c2-4a5a-9e67-72c479ed3d92",
   "metadata": {},
   "source": [
    "The Output of the function converts the gross value of 30.91 and rating of 6.6 as relative to the category A - Member."
   ]
  },
  {
   "cell_type": "markdown",
   "id": "3cf79ba4-55c2-408e-9176-50d95b2b7936",
   "metadata": {},
   "source": [
    "### sum_values - mean_values.\n",
    "\n",
    "These two functions calculates sum and average respectively. they are called by a dictionary mapping available on the **dict_addition** function, depending on the user's parameters, one of these two will be dinamically selected.  "
   ]
  },
  {
   "cell_type": "code",
   "execution_count": 13,
   "id": "3f120626-f804-48f6-9755-56d1d80eda67",
   "metadata": {},
   "outputs": [],
   "source": [
    "def sum_values(existing, addition):\n",
    "    return float(existing+addition)\n",
    "\n",
    "def mean_values(existing, addition):\n",
    "    if type(existing) == tuple:\n",
    "        sum_val = existing[0] + addition\n",
    "        count_val = existing[1] + 1\n",
    "    else:\n",
    "        sum_val = existing + addition\n",
    "        count_val = 2\n",
    "    mean_val = sum_val/count_val\n",
    "    return tuple([sum_val,count_val,mean_val])"
   ]
  },
  {
   "cell_type": "markdown",
   "id": "750161f2-3717-4317-adc7-eeb725c5e0d3",
   "metadata": {},
   "source": [
    "### dict_addition.\n",
    "\n",
    "Going back to the output of the **transform_dict** function above, the next step to get our summarized data is to store the cumulation of values into a final dictionary that represents the whole table. The funtion below handles that task."
   ]
  },
  {
   "cell_type": "code",
   "execution_count": 14,
   "id": "c2095920-3a9c-4610-b977-5f0f0a66cbb1",
   "metadata": {},
   "outputs": [],
   "source": [
    "def dict_addition(in_dict,append,values_dict,append_len,level = 0):\n",
    "    select_operation = {'sum': sum_values, 'mean':mean_values}\n",
    "    level_key = list(append.keys())[0]\n",
    "    value_col = list(values_dict.keys())\n",
    "    if in_dict.get(level_key,False) != False and level_key not in value_col: #key exists, inspect next level\n",
    "        level += 1\n",
    "        dict_addition(in_dict[level_key],append[level_key],values_dict,append_len,level = level)\n",
    "    elif in_dict.get(level_key,False) != False and level_key in value_col and level < append_len: #acumulation of values\n",
    "        for indx, key in enumerate(in_dict):\n",
    "            in_dict[key] = select_operation[values_dict[key]](in_dict[key],append[list(in_dict.keys())[indx]])\n",
    "    else:\n",
    "        in_dict[level_key] = append[level_key] #key does not exist, appending whole dict\n",
    "    return "
   ]
  },
  {
   "cell_type": "markdown",
   "id": "29f783ec-339f-4c10-ba28-629aaa122030",
   "metadata": {},
   "source": [
    "The example bellow shows 4 dictionaries having the same structure as the output of the **transform_dict** function, **out_file** represent our final summary. We expect the two entries having A - Member (items 1 and 3) to get summarized as gross income = 70, then A - Normal and B - Normal being single entries, should have values of 20 and 10 respectively. Since A - Member and A - Normal belong to branch A, these two should be part of the branch = 'A' dictionary, while branch = 'B' should have only the custumer type = 'Normal' value.\n",
    "\n",
    "Note that the dictionary *'{'gross income':'sum'}'* is helping us to pick the **sum_values** function described earlier."
   ]
  },
  {
   "cell_type": "code",
   "execution_count": 15,
   "id": "f1be122d-ff13-47ac-bbd6-9d5e80ae1db5",
   "metadata": {},
   "outputs": [
    {
     "name": "stdout",
     "output_type": "stream",
     "text": [
      "{'A': {'Member': {'gross income': 70.0}, 'Normal': {'gross income': 20}}, 'B': {'Normal': {'gross income': 10}}}\n"
     ]
    }
   ],
   "source": [
    "out_file = {}\n",
    "for row in [{'A': {'Member': {'gross income': 30}}}, \n",
    "            {'B': {'Normal': {'gross income': 10}}}, \n",
    "            {'A': {'Member': {'gross income': 40}}},\n",
    "            {'A': {'Normal': {'gross income': 20}}}]:\n",
    "    dict_addition(out_file, row, {'gross income':'sum'}, 4)\n",
    "print(out_file)"
   ]
  },
  {
   "cell_type": "markdown",
   "id": "2e6c5399-9c11-450d-a407-48e8d1d32532",
   "metadata": {},
   "source": [
    "### filter_values.\n",
    "\n",
    "This function analyses each row, and decides if it should be excluded based on criteria provided by the user."
   ]
  },
  {
   "cell_type": "code",
   "execution_count": 16,
   "id": "a29f152e-44aa-4e92-a868-2095d26a6ca9",
   "metadata": {},
   "outputs": [],
   "source": [
    "def filter_values(split_line,filter_dict,col_mapping):\n",
    "    for filter in filter_dict:\n",
    "        for val in filter_dict[filter]:\n",
    "            if split_line[col_mapping[filter]] == val:\n",
    "                return True\n",
    "    return False"
   ]
  },
  {
   "cell_type": "markdown",
   "id": "163a9ec2-0421-43d4-9fff-14b2ec131e50",
   "metadata": {},
   "source": [
    "In the example bellow, we are deciding to exclude branch = 'A', which is the case on the input row (second value on the first input param). We expect the function to return True, meaning that the row should be excluded."
   ]
  },
  {
   "cell_type": "code",
   "execution_count": 17,
   "id": "13366ab8-45b1-4f3c-8caf-b5ae51eaadba",
   "metadata": {},
   "outputs": [
    {
     "name": "stdout",
     "output_type": "stream",
     "text": [
      "True\n"
     ]
    }
   ],
   "source": [
    "print(filter_values(['849-09-3807', 'A', 'Yangon', 'Member', 'Female', 'Fashion accessories', '88.34', '7', '30.919', '649.299', '2/18/2019', '13:28', 'Cash', '618.38', '4.761904762', '30.919', '6.6']\n",
    "                    ,{'Branch':'A'}\n",
    "                    ,{'Invoice ID': 0, 'Branch': 1, 'City': 2, 'Customer type': 3, 'Gender': 4, 'Product line': 5, 'Unit price': 6, 'Quantity': 7, 'Tax 5%': 8, 'Total': 9, 'Date': 10, 'Time': 11, 'Payment': 12, 'cogs': 13, 'gross margin percentage': 14, 'gross income': 15, 'Rating': 16}))"
   ]
  },
  {
   "cell_type": "markdown",
   "id": "130b3ce8-2373-419e-ba5c-7a976415eb74",
   "metadata": {},
   "source": [
    "### adjust_line.\n",
    "\n",
    "This auxiliary function indentify and fix rows where the delimiter character (for example, a comma ',') exists between a pair of quoting values, meaning that can potentially break the column structure of the csv. The function is necessary given that we are not importing any library that would handle that for us. "
   ]
  },
  {
   "cell_type": "code",
   "execution_count": 18,
   "id": "4c2daf9a-d20c-4d00-899c-27d69628c6bf",
   "metadata": {},
   "outputs": [],
   "source": [
    "def adjust_line(line,quoting_char = '\"',sep = ','):\n",
    "    max_indx = len(line)\n",
    "    fixed_line = ''\n",
    "    indx_list = []\n",
    "    for indx,character in enumerate(line):\n",
    "        if character == quoting_char:\n",
    "            indx_list.append(indx)\n",
    "    if len(indx_list) == 0:\n",
    "        return line\n",
    "    paired_list = []\n",
    "    for pair in range(0,len(indx_list),2):\n",
    "        paired_list.append(tuple([indx_list[pair], indx_list[pair+1]]))\n",
    "    line_sections = []\n",
    "    line_pos = 0 \n",
    "    for indx,section in enumerate(paired_list):\n",
    "        line_sections.append(tuple([line_pos,section[0]-1]))\n",
    "        line_sections.append(section)\n",
    "        line_pos = section[1]+1\n",
    "        if indx == len(paired_list)-1:\n",
    "            line_sections.append(tuple([line_pos,max_indx]))\n",
    "    for section in line_sections:\n",
    "        if section in paired_list:\n",
    "            fixed_line = fixed_line+line[section[0]:section[1]+1].replace(sep,'')\n",
    "        else:\n",
    "            fixed_line = fixed_line+line[section[0]:section[1]+1]\n",
    "    return fixed_line"
   ]
  },
  {
   "cell_type": "markdown",
   "id": "b7f1a698-9f12-4053-9c9a-2664498c54f8",
   "metadata": {},
   "source": [
    "The code bellow shows two examples of csv rows represented as string, the first one would not represent and issue since none of the given values has a comma and this character is only use to delimit our multiple values, but the second row has this problem on the last column. The **adjust_line** removes the conflicting character."
   ]
  },
  {
   "cell_type": "code",
   "execution_count": 19,
   "id": "d1cc7d15-6418-4298-b303-0fce40f5d76a",
   "metadata": {},
   "outputs": [
    {
     "name": "stdout",
     "output_type": "stream",
     "text": [
      "849-09-3807, A, Yangon, Member, Female, Fashion accessories\n",
      "849-09-3807, A, Yangon, Member, Female,\"Food kitchen and Cooking\"\n"
     ]
    }
   ],
   "source": [
    "print(adjust_line('849-09-3807, A, Yangon, Member, Female, Fashion accessories'))\n",
    "print(adjust_line('849-09-3807, A, Yangon, Member, Female,\"Food, kitchen and Cooking\"'))"
   ]
  },
  {
   "cell_type": "markdown",
   "id": "276d8e76-9524-457f-85ab-dbb83088233e",
   "metadata": {},
   "source": [
    "The cell bellow shows how the string is parsed differently depending on the use of **adjust_line**."
   ]
  },
  {
   "cell_type": "code",
   "execution_count": 20,
   "id": "c4a8b2c1-a3a2-48a8-8692-fe430a255100",
   "metadata": {},
   "outputs": [
    {
     "name": "stdout",
     "output_type": "stream",
     "text": [
      "['849-09-3807', ' A', ' Yangon', ' Member', ' Female', '\"Food kitchen and Cooking\"']\n",
      "['849-09-3807', ' A', ' Yangon', ' Member', ' Female', '\"Food', ' kitchen and Cooking\"']\n"
     ]
    }
   ],
   "source": [
    "print(adjust_line('849-09-3807, A, Yangon, Member, Female,\"Food, kitchen and Cooking\"').split(','))\n",
    "print('849-09-3807, A, Yangon, Member, Female,\"Food, kitchen and Cooking\"'.split(','))"
   ]
  },
  {
   "cell_type": "markdown",
   "id": "cab9b87d-3857-4ffd-a00e-0fcd4e7984b8",
   "metadata": {},
   "source": [
    "### csv2summary.\n",
    "\n",
    "This functions wraps-up everything presented earlier. After opening the target file, defines the headers (they could or could not be the first row of the file), then checks if the line needs to be fixed by using **adjust_line**, then decides if the row should be excluded by using **filter_values**. If the line is relevant for the summary it gathers the relevant values by using **transform_dict** and summarize the results by using **dict_addition**, lastly returns the final output."
   ]
  },
  {
   "cell_type": "code",
   "execution_count": 21,
   "id": "f1686583-f8d6-4f27-b378-7eeb607ecb07",
   "metadata": {},
   "outputs": [],
   "source": [
    "def csv2summary(input_file, sep = ',',quoting_char = '\"', index_list = [], values_dict = {}, filter_dict = {}, known_headers = [], if_headers = True, if_adjust = False, encode = 'utf-8'):\n",
    "    out_file = {}\n",
    "    max_level = len(index_list)\n",
    "    append_len = max_level+len(values_dict)\n",
    "    with open(input_file, 'r', encoding=encode) as in_file:\n",
    "        if if_headers:\n",
    "            headers = tuple(in_file.readline().strip().split(sep))\n",
    "        else:\n",
    "            headers = tuple(known_headers)\n",
    "        col_mapping = {}\n",
    "        for col in headers:\n",
    "            col_mapping[col] = headers.index(col)\n",
    "        for line in in_file:\n",
    "            line_keys = {}\n",
    "            if if_adjust:\n",
    "                split_line = adjust_line(line.strip(), quoting_char, sep).split(sep)\n",
    "            else:\n",
    "                split_line = line.strip().split(sep)\n",
    "            if filter_values(split_line,filter_dict,col_mapping):\n",
    "                continue\n",
    "            for indx_level in index_list:\n",
    "                line_keys[indx_level] = split_line[col_mapping[indx_level]]\n",
    "            for value in values_dict:\n",
    "                line_keys[value] = split_line[col_mapping[value]]\n",
    "            adjusted_keys = transform_dict({},line_keys,index_list,max_level,append_len)\n",
    "            dict_addition(out_file, adjusted_keys, values_dict, append_len)      \n",
    "    return out_file"
   ]
  },
  {
   "cell_type": "markdown",
   "id": "58ebbe7c-2660-41e0-bfa5-dd9bfe18ee2c",
   "metadata": {},
   "source": [
    "The following examples show the output of the function using different levels of analysis."
   ]
  },
  {
   "cell_type": "code",
   "execution_count": 278,
   "id": "dee6fa83-50ef-4746-b483-7a835fe7230f",
   "metadata": {},
   "outputs": [
    {
     "data": {
      "text/plain": [
       "{'Yangon': {'gross income': 5057.160500000002},\n",
       " 'Naypyitaw': {'gross income': 5265.176500000002},\n",
       " 'Mandalay': {'gross income': 5057.032000000003}}"
      ]
     },
     "execution_count": 278,
     "metadata": {},
     "output_type": "execute_result"
    }
   ],
   "source": [
    "csv2summary('supermarket_sales.csv', index_list = ['City'], values_dict = {'gross income':'sum'})"
   ]
  },
  {
   "cell_type": "code",
   "execution_count": 279,
   "id": "53178157-2186-4193-848a-c157cff1f6de",
   "metadata": {},
   "outputs": [
    {
     "data": {
      "text/plain": [
       "{'Yangon': {'Female': {'gross income': 2536.6269999999995},\n",
       "  'Male': {'gross income': 2520.5335}},\n",
       " 'Naypyitaw': {'Female': {'gross income': 2937.403000000002},\n",
       "  'Male': {'gross income': 2327.7735000000007}},\n",
       " 'Mandalay': {'Female': {'gross income': 2520.395000000001},\n",
       "  'Male': {'gross income': 2536.637}}}"
      ]
     },
     "execution_count": 279,
     "metadata": {},
     "output_type": "execute_result"
    }
   ],
   "source": [
    "csv2summary('supermarket_sales.csv', index_list = ['City', 'Gender'], values_dict = {'gross income':'sum'})"
   ]
  },
  {
   "cell_type": "markdown",
   "id": "5e47bd9d-cfcd-4bc8-aa9d-53ee78ebada4",
   "metadata": {
    "editable": true,
    "slideshow": {
     "slide_type": ""
    },
    "tags": []
   },
   "source": [
    "## Testing\n",
    "\n",
    "This part is divided in two:\n",
    "1. **Convert results to pandas**. We'll declare auxiliary functions to convert our output to a format compatible to be read with pandas, the purpose of this is to make the comparison easier.\n",
    "2. **Accuracy test**. This test consists of comparing our summary results vs a grouped pandas dataframe and confirm they agree in terms of amounts.\n",
    "3. **Performance vs Large files**. This test will consist on comparing processing time and memory usage vs a pandas dataframe. "
   ]
  },
  {
   "cell_type": "code",
   "execution_count": 22,
   "id": "69b26c9a-5a83-4217-a344-53fa1e053bd5",
   "metadata": {
    "editable": true,
    "slideshow": {
     "slide_type": ""
    },
    "tags": []
   },
   "outputs": [],
   "source": [
    "import pandas as pd"
   ]
  },
  {
   "cell_type": "markdown",
   "id": "f9792bb3-a913-4dc6-837f-ba0f94945664",
   "metadata": {
    "editable": true,
    "slideshow": {
     "slide_type": ""
    },
    "tags": []
   },
   "source": [
    "### Convert results to pandas\n",
    "\n",
    "The following functions transforms the csvsummary output to a multiindex dictionary format for pandas."
   ]
  },
  {
   "cell_type": "code",
   "execution_count": 266,
   "id": "eca07688-6556-436d-b772-a5cd01d4145a",
   "metadata": {},
   "outputs": [],
   "source": [
    "def inspect_item(csvsummary, output, target,subsummary, level = 0, key_index = []):\n",
    "    if level == 0:\n",
    "        key_index.append(subsummary)\n",
    "    for item in csvsummary:\n",
    "        if type(csvsummary[item]) == dict:\n",
    "            level += 1\n",
    "            if len(key_index) == level:\n",
    "                key_index.append(item)\n",
    "            else:\n",
    "                key_index[level] = item\n",
    "            inspect_item(csvsummary[item],output,target,item,level,key_index)\n",
    "            level -= 1\n",
    "        elif item == target:\n",
    "            value = csvsummary[item]\n",
    "            output[tuple(key_index)] = value\n",
    "            key_index.pop()\n",
    "            \n",
    "def csvsummary2pandas(csvsummary,target_list):\n",
    "    output = {}\n",
    "    for target in target_list:\n",
    "        output[target] = {}\n",
    "        for subsummary in csvsummary:\n",
    "            inspect_item(csvsummary[subsummary], output[target], target, subsummary,level = 0, key_index = [])\n",
    "   \n",
    "    return output"
   ]
  },
  {
   "cell_type": "code",
   "execution_count": 316,
   "id": "787e553c-1685-4cb5-be5f-90006713ba3c",
   "metadata": {},
   "outputs": [
    {
     "data": {
      "text/plain": [
       "{'gross income': {('Yangon', 'Female'): 2536.6269999999995,\n",
       "  ('Yangon', 'Male'): 2520.5335,\n",
       "  ('Naypyitaw', 'Female'): 2937.403000000002,\n",
       "  ('Naypyitaw', 'Male'): 2327.7735000000007,\n",
       "  ('Mandalay', 'Female'): 2520.395000000001,\n",
       "  ('Mandalay', 'Male'): 2536.637}}"
      ]
     },
     "execution_count": 316,
     "metadata": {},
     "output_type": "execute_result"
    }
   ],
   "source": [
    "csvsummary2pandas(csv2summary('supermarket_sales.csv', index_list = ['City', 'Gender'], values_dict = {'gross income':'sum'}), ['gross income'])"
   ]
  },
  {
   "cell_type": "markdown",
   "id": "d91b97be-1de7-4167-add8-7227e3a89d5a",
   "metadata": {
    "editable": true,
    "slideshow": {
     "slide_type": ""
    },
    "tags": []
   },
   "source": [
    "## Accuracy Test\n",
    "\n",
    "The following 3 examples consist of:\n",
    "\n",
    "1. Use csv2summary, each example will use different configuration. The output will be converted to be read in pandas.\n",
    "2. use pandas.read_csv and then .groupby to get an equivalent result.\n",
    "3. confirm the results are the same by merging both dataframes and checking side by side.\n",
    "\n",
    "We are able to confirm the expeted result, both methods lead to the same outcome."
   ]
  },
  {
   "cell_type": "code",
   "execution_count": 294,
   "id": "0a95bd42-d6ca-4baa-acd1-317c1f66bd2d",
   "metadata": {
    "editable": true,
    "slideshow": {
     "slide_type": ""
    },
    "tags": []
   },
   "outputs": [
    {
     "data": {
      "text/html": [
       "<div>\n",
       "<style scoped>\n",
       "    .dataframe tbody tr th:only-of-type {\n",
       "        vertical-align: middle;\n",
       "    }\n",
       "\n",
       "    .dataframe tbody tr th {\n",
       "        vertical-align: top;\n",
       "    }\n",
       "\n",
       "    .dataframe thead th {\n",
       "        text-align: right;\n",
       "    }\n",
       "</style>\n",
       "<table border=\"1\" class=\"dataframe\">\n",
       "  <thead>\n",
       "    <tr style=\"text-align: right;\">\n",
       "      <th></th>\n",
       "      <th></th>\n",
       "      <th>gross income</th>\n",
       "    </tr>\n",
       "  </thead>\n",
       "  <tbody>\n",
       "    <tr>\n",
       "      <th rowspan=\"2\" valign=\"top\">Mandalay</th>\n",
       "      <th>Female</th>\n",
       "      <td>2520.3950</td>\n",
       "    </tr>\n",
       "    <tr>\n",
       "      <th>Male</th>\n",
       "      <td>2536.6370</td>\n",
       "    </tr>\n",
       "    <tr>\n",
       "      <th rowspan=\"2\" valign=\"top\">Naypyitaw</th>\n",
       "      <th>Female</th>\n",
       "      <td>2937.4030</td>\n",
       "    </tr>\n",
       "    <tr>\n",
       "      <th>Male</th>\n",
       "      <td>2327.7735</td>\n",
       "    </tr>\n",
       "    <tr>\n",
       "      <th rowspan=\"2\" valign=\"top\">Yangon</th>\n",
       "      <th>Female</th>\n",
       "      <td>2536.6270</td>\n",
       "    </tr>\n",
       "    <tr>\n",
       "      <th>Male</th>\n",
       "      <td>2520.5335</td>\n",
       "    </tr>\n",
       "  </tbody>\n",
       "</table>\n",
       "</div>"
      ],
      "text/plain": [
       "                  gross income\n",
       "Mandalay  Female     2520.3950\n",
       "          Male       2536.6370\n",
       "Naypyitaw Female     2937.4030\n",
       "          Male       2327.7735\n",
       "Yangon    Female     2536.6270\n",
       "          Male       2520.5335"
      ]
     },
     "execution_count": 294,
     "metadata": {},
     "output_type": "execute_result"
    }
   ],
   "source": [
    "test = pd.DataFrame.from_dict(csvsummary2pandas(csv2summary('supermarket_sales.csv', index_list = ['City', 'Gender'], values_dict = {'gross income':'sum'}), ['gross income'])).sort_index()\n",
    "test"
   ]
  },
  {
   "cell_type": "code",
   "execution_count": 295,
   "id": "f38bb1af-7f1d-4d19-9ace-4374706cc3eb",
   "metadata": {
    "editable": true,
    "slideshow": {
     "slide_type": ""
    },
    "tags": []
   },
   "outputs": [
    {
     "data": {
      "text/html": [
       "<div>\n",
       "<style scoped>\n",
       "    .dataframe tbody tr th:only-of-type {\n",
       "        vertical-align: middle;\n",
       "    }\n",
       "\n",
       "    .dataframe tbody tr th {\n",
       "        vertical-align: top;\n",
       "    }\n",
       "\n",
       "    .dataframe thead th {\n",
       "        text-align: right;\n",
       "    }\n",
       "</style>\n",
       "<table border=\"1\" class=\"dataframe\">\n",
       "  <thead>\n",
       "    <tr style=\"text-align: right;\">\n",
       "      <th></th>\n",
       "      <th></th>\n",
       "      <th>gross income</th>\n",
       "    </tr>\n",
       "    <tr>\n",
       "      <th>City</th>\n",
       "      <th>Gender</th>\n",
       "      <th></th>\n",
       "    </tr>\n",
       "  </thead>\n",
       "  <tbody>\n",
       "    <tr>\n",
       "      <th rowspan=\"2\" valign=\"top\">Mandalay</th>\n",
       "      <th>Female</th>\n",
       "      <td>2520.3950</td>\n",
       "    </tr>\n",
       "    <tr>\n",
       "      <th>Male</th>\n",
       "      <td>2536.6370</td>\n",
       "    </tr>\n",
       "    <tr>\n",
       "      <th rowspan=\"2\" valign=\"top\">Naypyitaw</th>\n",
       "      <th>Female</th>\n",
       "      <td>2937.4030</td>\n",
       "    </tr>\n",
       "    <tr>\n",
       "      <th>Male</th>\n",
       "      <td>2327.7735</td>\n",
       "    </tr>\n",
       "    <tr>\n",
       "      <th rowspan=\"2\" valign=\"top\">Yangon</th>\n",
       "      <th>Female</th>\n",
       "      <td>2536.6270</td>\n",
       "    </tr>\n",
       "    <tr>\n",
       "      <th>Male</th>\n",
       "      <td>2520.5335</td>\n",
       "    </tr>\n",
       "  </tbody>\n",
       "</table>\n",
       "</div>"
      ],
      "text/plain": [
       "                  gross income\n",
       "City      Gender              \n",
       "Mandalay  Female     2520.3950\n",
       "          Male       2536.6370\n",
       "Naypyitaw Female     2937.4030\n",
       "          Male       2327.7735\n",
       "Yangon    Female     2536.6270\n",
       "          Male       2520.5335"
      ]
     },
     "execution_count": 295,
     "metadata": {},
     "output_type": "execute_result"
    }
   ],
   "source": [
    "pandas = pd.read_csv('supermarket_sales.csv').groupby(['City', 'Gender']).agg({'gross income':'sum'}).sort_index()\n",
    "pandas"
   ]
  },
  {
   "cell_type": "code",
   "execution_count": 296,
   "id": "25bc8b25-0355-460f-98a9-f23f17b6af14",
   "metadata": {},
   "outputs": [
    {
     "data": {
      "text/html": [
       "<div>\n",
       "<style scoped>\n",
       "    .dataframe tbody tr th:only-of-type {\n",
       "        vertical-align: middle;\n",
       "    }\n",
       "\n",
       "    .dataframe tbody tr th {\n",
       "        vertical-align: top;\n",
       "    }\n",
       "\n",
       "    .dataframe thead th {\n",
       "        text-align: right;\n",
       "    }\n",
       "</style>\n",
       "<table border=\"1\" class=\"dataframe\">\n",
       "  <thead>\n",
       "    <tr style=\"text-align: right;\">\n",
       "      <th></th>\n",
       "      <th></th>\n",
       "      <th>gross income_x</th>\n",
       "      <th>gross income_y</th>\n",
       "    </tr>\n",
       "    <tr>\n",
       "      <th>City</th>\n",
       "      <th>Gender</th>\n",
       "      <th></th>\n",
       "      <th></th>\n",
       "    </tr>\n",
       "  </thead>\n",
       "  <tbody>\n",
       "    <tr>\n",
       "      <th rowspan=\"2\" valign=\"top\">Mandalay</th>\n",
       "      <th>Female</th>\n",
       "      <td>2520.3950</td>\n",
       "      <td>2520.3950</td>\n",
       "    </tr>\n",
       "    <tr>\n",
       "      <th>Male</th>\n",
       "      <td>2536.6370</td>\n",
       "      <td>2536.6370</td>\n",
       "    </tr>\n",
       "    <tr>\n",
       "      <th rowspan=\"2\" valign=\"top\">Naypyitaw</th>\n",
       "      <th>Female</th>\n",
       "      <td>2937.4030</td>\n",
       "      <td>2937.4030</td>\n",
       "    </tr>\n",
       "    <tr>\n",
       "      <th>Male</th>\n",
       "      <td>2327.7735</td>\n",
       "      <td>2327.7735</td>\n",
       "    </tr>\n",
       "    <tr>\n",
       "      <th rowspan=\"2\" valign=\"top\">Yangon</th>\n",
       "      <th>Female</th>\n",
       "      <td>2536.6270</td>\n",
       "      <td>2536.6270</td>\n",
       "    </tr>\n",
       "    <tr>\n",
       "      <th>Male</th>\n",
       "      <td>2520.5335</td>\n",
       "      <td>2520.5335</td>\n",
       "    </tr>\n",
       "  </tbody>\n",
       "</table>\n",
       "</div>"
      ],
      "text/plain": [
       "                  gross income_x  gross income_y\n",
       "City      Gender                                \n",
       "Mandalay  Female       2520.3950       2520.3950\n",
       "          Male         2536.6370       2536.6370\n",
       "Naypyitaw Female       2937.4030       2937.4030\n",
       "          Male         2327.7735       2327.7735\n",
       "Yangon    Female       2536.6270       2536.6270\n",
       "          Male         2520.5335       2520.5335"
      ]
     },
     "execution_count": 296,
     "metadata": {},
     "output_type": "execute_result"
    }
   ],
   "source": [
    "pandas.merge(test, right_index=True, left_on=['City', 'Gender'])"
   ]
  },
  {
   "cell_type": "code",
   "execution_count": 297,
   "id": "0300dfdb-5fe9-47bb-ab98-85174656fa57",
   "metadata": {
    "editable": true,
    "slideshow": {
     "slide_type": ""
    },
    "tags": []
   },
   "outputs": [
    {
     "data": {
      "text/html": [
       "<div>\n",
       "<style scoped>\n",
       "    .dataframe tbody tr th:only-of-type {\n",
       "        vertical-align: middle;\n",
       "    }\n",
       "\n",
       "    .dataframe tbody tr th {\n",
       "        vertical-align: top;\n",
       "    }\n",
       "\n",
       "    .dataframe thead th {\n",
       "        text-align: right;\n",
       "    }\n",
       "</style>\n",
       "<table border=\"1\" class=\"dataframe\">\n",
       "  <thead>\n",
       "    <tr style=\"text-align: right;\">\n",
       "      <th></th>\n",
       "      <th></th>\n",
       "      <th>gross income_x</th>\n",
       "      <th>gross income_y</th>\n",
       "    </tr>\n",
       "    <tr>\n",
       "      <th>Branch</th>\n",
       "      <th>Customer type</th>\n",
       "      <th></th>\n",
       "      <th></th>\n",
       "    </tr>\n",
       "  </thead>\n",
       "  <tbody>\n",
       "    <tr>\n",
       "      <th rowspan=\"2\" valign=\"top\">A</th>\n",
       "      <th>Member</th>\n",
       "      <td>2554.1655</td>\n",
       "      <td>2554.1655</td>\n",
       "    </tr>\n",
       "    <tr>\n",
       "      <th>Normal</th>\n",
       "      <td>2502.9950</td>\n",
       "      <td>2502.9950</td>\n",
       "    </tr>\n",
       "    <tr>\n",
       "      <th rowspan=\"2\" valign=\"top\">B</th>\n",
       "      <th>Member</th>\n",
       "      <td>2557.3660</td>\n",
       "      <td>2557.3660</td>\n",
       "    </tr>\n",
       "    <tr>\n",
       "      <th>Normal</th>\n",
       "      <td>2499.6660</td>\n",
       "      <td>2499.6660</td>\n",
       "    </tr>\n",
       "    <tr>\n",
       "      <th rowspan=\"2\" valign=\"top\">C</th>\n",
       "      <th>Member</th>\n",
       "      <td>2708.6325</td>\n",
       "      <td>2708.6325</td>\n",
       "    </tr>\n",
       "    <tr>\n",
       "      <th>Normal</th>\n",
       "      <td>2556.5440</td>\n",
       "      <td>2556.5440</td>\n",
       "    </tr>\n",
       "  </tbody>\n",
       "</table>\n",
       "</div>"
      ],
      "text/plain": [
       "                      gross income_x  gross income_y\n",
       "Branch Customer type                                \n",
       "A      Member              2554.1655       2554.1655\n",
       "       Normal              2502.9950       2502.9950\n",
       "B      Member              2557.3660       2557.3660\n",
       "       Normal              2499.6660       2499.6660\n",
       "C      Member              2708.6325       2708.6325\n",
       "       Normal              2556.5440       2556.5440"
      ]
     },
     "execution_count": 297,
     "metadata": {},
     "output_type": "execute_result"
    }
   ],
   "source": [
    "test = pd.DataFrame.from_dict(csvsummary2pandas(csv2summary('supermarket_sales.csv', index_list = ['Branch','Customer type'], values_dict = {'gross income':'sum'}), ['gross income'])).sort_index()\n",
    "pandas = pd.read_csv('supermarket_sales.csv').groupby(['Branch','Customer type']).agg({'gross income':'sum'})\n",
    "pandas.merge(test, right_index=True, left_on=['Branch','Customer type'])"
   ]
  },
  {
   "cell_type": "code",
   "execution_count": 298,
   "id": "dcb33ea7-4853-49eb-bf98-620ab02e563c",
   "metadata": {},
   "outputs": [
    {
     "data": {
      "text/html": [
       "<div>\n",
       "<style scoped>\n",
       "    .dataframe tbody tr th:only-of-type {\n",
       "        vertical-align: middle;\n",
       "    }\n",
       "\n",
       "    .dataframe tbody tr th {\n",
       "        vertical-align: top;\n",
       "    }\n",
       "\n",
       "    .dataframe thead th {\n",
       "        text-align: right;\n",
       "    }\n",
       "</style>\n",
       "<table border=\"1\" class=\"dataframe\">\n",
       "  <thead>\n",
       "    <tr style=\"text-align: right;\">\n",
       "      <th></th>\n",
       "      <th></th>\n",
       "      <th></th>\n",
       "      <th>gross income_x</th>\n",
       "      <th>gross income_y</th>\n",
       "    </tr>\n",
       "    <tr>\n",
       "      <th>Branch</th>\n",
       "      <th>Gender</th>\n",
       "      <th>Product line</th>\n",
       "      <th></th>\n",
       "      <th></th>\n",
       "    </tr>\n",
       "  </thead>\n",
       "  <tbody>\n",
       "    <tr>\n",
       "      <th rowspan=\"12\" valign=\"top\">A</th>\n",
       "      <th rowspan=\"6\" valign=\"top\">Female</th>\n",
       "      <th>Electronic accessories</th>\n",
       "      <td>474.5855</td>\n",
       "      <td>474.5855</td>\n",
       "    </tr>\n",
       "    <tr>\n",
       "      <th>Fashion accessories</th>\n",
       "      <td>468.3915</td>\n",
       "      <td>468.3915</td>\n",
       "    </tr>\n",
       "    <tr>\n",
       "      <th>Food and beverages</th>\n",
       "      <td>333.3220</td>\n",
       "      <td>333.3220</td>\n",
       "    </tr>\n",
       "    <tr>\n",
       "      <th>Health and beauty</th>\n",
       "      <td>272.1380</td>\n",
       "      <td>272.1380</td>\n",
       "    </tr>\n",
       "    <tr>\n",
       "      <th>Home and lifestyle</th>\n",
       "      <td>601.7530</td>\n",
       "      <td>601.7530</td>\n",
       "    </tr>\n",
       "    <tr>\n",
       "      <th>Sports and travel</th>\n",
       "      <td>386.4370</td>\n",
       "      <td>386.4370</td>\n",
       "    </tr>\n",
       "    <tr>\n",
       "      <th rowspan=\"6\" valign=\"top\">Male</th>\n",
       "      <th>Electronic accessories</th>\n",
       "      <td>397.6580</td>\n",
       "      <td>397.6580</td>\n",
       "    </tr>\n",
       "    <tr>\n",
       "      <th>Fashion accessories</th>\n",
       "      <td>309.3470</td>\n",
       "      <td>309.3470</td>\n",
       "    </tr>\n",
       "    <tr>\n",
       "      <th>Food and beverages</th>\n",
       "      <td>483.9685</td>\n",
       "      <td>483.9685</td>\n",
       "    </tr>\n",
       "    <tr>\n",
       "      <th>Health and beauty</th>\n",
       "      <td>327.7550</td>\n",
       "      <td>327.7550</td>\n",
       "    </tr>\n",
       "    <tr>\n",
       "      <th>Home and lifestyle</th>\n",
       "      <td>465.7325</td>\n",
       "      <td>465.7325</td>\n",
       "    </tr>\n",
       "    <tr>\n",
       "      <th>Sports and travel</th>\n",
       "      <td>536.0725</td>\n",
       "      <td>536.0725</td>\n",
       "    </tr>\n",
       "    <tr>\n",
       "      <th rowspan=\"12\" valign=\"top\">B</th>\n",
       "      <th rowspan=\"6\" valign=\"top\">Female</th>\n",
       "      <th>Electronic accessories</th>\n",
       "      <td>388.8815</td>\n",
       "      <td>388.8815</td>\n",
       "    </tr>\n",
       "    <tr>\n",
       "      <th>Fashion accessories</th>\n",
       "      <td>432.4520</td>\n",
       "      <td>432.4520</td>\n",
       "    </tr>\n",
       "    <tr>\n",
       "      <th>Food and beverages</th>\n",
       "      <td>500.4760</td>\n",
       "      <td>500.4760</td>\n",
       "    </tr>\n",
       "    <tr>\n",
       "      <th>Health and beauty</th>\n",
       "      <td>304.7785</td>\n",
       "      <td>304.7785</td>\n",
       "    </tr>\n",
       "    <tr>\n",
       "      <th>Home and lifestyle</th>\n",
       "      <td>455.1015</td>\n",
       "      <td>455.1015</td>\n",
       "    </tr>\n",
       "    <tr>\n",
       "      <th>Sports and travel</th>\n",
       "      <td>438.7055</td>\n",
       "      <td>438.7055</td>\n",
       "    </tr>\n",
       "    <tr>\n",
       "      <th rowspan=\"6\" valign=\"top\">Male</th>\n",
       "      <th>Electronic accessories</th>\n",
       "      <td>423.0920</td>\n",
       "      <td>423.0920</td>\n",
       "    </tr>\n",
       "    <tr>\n",
       "      <th>Fashion accessories</th>\n",
       "      <td>349.1345</td>\n",
       "      <td>349.1345</td>\n",
       "    </tr>\n",
       "    <tr>\n",
       "      <th>Food and beverages</th>\n",
       "      <td>224.0425</td>\n",
       "      <td>224.0425</td>\n",
       "    </tr>\n",
       "    <tr>\n",
       "      <th>Health and beauty</th>\n",
       "      <td>646.6815</td>\n",
       "      <td>646.6815</td>\n",
       "    </tr>\n",
       "    <tr>\n",
       "      <th>Home and lifestyle</th>\n",
       "      <td>380.5730</td>\n",
       "      <td>380.5730</td>\n",
       "    </tr>\n",
       "    <tr>\n",
       "      <th>Sports and travel</th>\n",
       "      <td>513.1135</td>\n",
       "      <td>513.1135</td>\n",
       "    </tr>\n",
       "    <tr>\n",
       "      <th rowspan=\"12\" valign=\"top\">C</th>\n",
       "      <th rowspan=\"6\" valign=\"top\">Female</th>\n",
       "      <th>Electronic accessories</th>\n",
       "      <td>427.1055</td>\n",
       "      <td>427.1055</td>\n",
       "    </tr>\n",
       "    <tr>\n",
       "      <th>Fashion accessories</th>\n",
       "      <td>548.5565</td>\n",
       "      <td>548.5565</td>\n",
       "    </tr>\n",
       "    <tr>\n",
       "      <th>Food and beverages</th>\n",
       "      <td>745.7695</td>\n",
       "      <td>745.7695</td>\n",
       "    </tr>\n",
       "    <tr>\n",
       "      <th>Health and beauty</th>\n",
       "      <td>306.9400</td>\n",
       "      <td>306.9400</td>\n",
       "    </tr>\n",
       "    <tr>\n",
       "      <th>Home and lifestyle</th>\n",
       "      <td>373.4730</td>\n",
       "      <td>373.4730</td>\n",
       "    </tr>\n",
       "    <tr>\n",
       "      <th>Sports and travel</th>\n",
       "      <td>535.5585</td>\n",
       "      <td>535.5585</td>\n",
       "    </tr>\n",
       "    <tr>\n",
       "      <th rowspan=\"6\" valign=\"top\">Male</th>\n",
       "      <th>Electronic accessories</th>\n",
       "      <td>476.1790</td>\n",
       "      <td>476.1790</td>\n",
       "    </tr>\n",
       "    <tr>\n",
       "      <th>Fashion accessories</th>\n",
       "      <td>478.1135</td>\n",
       "      <td>478.1135</td>\n",
       "    </tr>\n",
       "    <tr>\n",
       "      <th>Food and beverages</th>\n",
       "      <td>385.9855</td>\n",
       "      <td>385.9855</td>\n",
       "    </tr>\n",
       "    <tr>\n",
       "      <th>Health and beauty</th>\n",
       "      <td>484.2660</td>\n",
       "      <td>484.2660</td>\n",
       "    </tr>\n",
       "    <tr>\n",
       "      <th>Home and lifestyle</th>\n",
       "      <td>288.2200</td>\n",
       "      <td>288.2200</td>\n",
       "    </tr>\n",
       "    <tr>\n",
       "      <th>Sports and travel</th>\n",
       "      <td>215.0095</td>\n",
       "      <td>215.0095</td>\n",
       "    </tr>\n",
       "  </tbody>\n",
       "</table>\n",
       "</div>"
      ],
      "text/plain": [
       "                                      gross income_x  gross income_y\n",
       "Branch Gender Product line                                          \n",
       "A      Female Electronic accessories        474.5855        474.5855\n",
       "              Fashion accessories           468.3915        468.3915\n",
       "              Food and beverages            333.3220        333.3220\n",
       "              Health and beauty             272.1380        272.1380\n",
       "              Home and lifestyle            601.7530        601.7530\n",
       "              Sports and travel             386.4370        386.4370\n",
       "       Male   Electronic accessories        397.6580        397.6580\n",
       "              Fashion accessories           309.3470        309.3470\n",
       "              Food and beverages            483.9685        483.9685\n",
       "              Health and beauty             327.7550        327.7550\n",
       "              Home and lifestyle            465.7325        465.7325\n",
       "              Sports and travel             536.0725        536.0725\n",
       "B      Female Electronic accessories        388.8815        388.8815\n",
       "              Fashion accessories           432.4520        432.4520\n",
       "              Food and beverages            500.4760        500.4760\n",
       "              Health and beauty             304.7785        304.7785\n",
       "              Home and lifestyle            455.1015        455.1015\n",
       "              Sports and travel             438.7055        438.7055\n",
       "       Male   Electronic accessories        423.0920        423.0920\n",
       "              Fashion accessories           349.1345        349.1345\n",
       "              Food and beverages            224.0425        224.0425\n",
       "              Health and beauty             646.6815        646.6815\n",
       "              Home and lifestyle            380.5730        380.5730\n",
       "              Sports and travel             513.1135        513.1135\n",
       "C      Female Electronic accessories        427.1055        427.1055\n",
       "              Fashion accessories           548.5565        548.5565\n",
       "              Food and beverages            745.7695        745.7695\n",
       "              Health and beauty             306.9400        306.9400\n",
       "              Home and lifestyle            373.4730        373.4730\n",
       "              Sports and travel             535.5585        535.5585\n",
       "       Male   Electronic accessories        476.1790        476.1790\n",
       "              Fashion accessories           478.1135        478.1135\n",
       "              Food and beverages            385.9855        385.9855\n",
       "              Health and beauty             484.2660        484.2660\n",
       "              Home and lifestyle            288.2200        288.2200\n",
       "              Sports and travel             215.0095        215.0095"
      ]
     },
     "execution_count": 298,
     "metadata": {},
     "output_type": "execute_result"
    }
   ],
   "source": [
    "test = pd.DataFrame.from_dict(csvsummary2pandas(csv2summary('supermarket_sales.csv', index_list = ['Branch', 'Gender','Product line'], values_dict = {'gross income':'sum'}), ['gross income'])).sort_index()\n",
    "pandas = pd.read_csv('supermarket_sales.csv').groupby(['Branch', 'Gender','Product line']).agg({'gross income':'sum'})\n",
    "pandas.merge(test, right_index=True, left_on=['Branch', 'Gender','Product line'])"
   ]
  },
  {
   "cell_type": "markdown",
   "id": "d8c88041-7797-48d6-845e-354b10810a86",
   "metadata": {},
   "source": [
    "### Performace vs large files.\n",
    "\n",
    "For this test I used a modified version of the csv file I've been using for demostration, the data has been duplicated multiple times to make 12000000 records, the file size is 1.46 GB. The original file only has 1000 records and its size is 128 KB. \n",
    "\n",
    "The following cells shows that, at the expense of CPU time, csv2summary cause a minimal increment in memory usage compared to a direct use of pandas (low_memory=False) which is the expected result."
   ]
  },
  {
   "cell_type": "code",
   "execution_count": 307,
   "id": "bdcef2e8-d5f1-4f84-bece-3527ef836f2c",
   "metadata": {},
   "outputs": [
    {
     "name": "stdout",
     "output_type": "stream",
     "text": [
      "The memory_profiler extension is already loaded. To reload it, use:\n",
      "  %reload_ext memory_profiler\n"
     ]
    }
   ],
   "source": [
    "import setuptools\n",
    "%load_ext memory_profiler"
   ]
  },
  {
   "cell_type": "code",
   "execution_count": 313,
   "id": "06ff03f5-6850-437d-8ca8-e0ef2f4027f0",
   "metadata": {},
   "outputs": [
    {
     "name": "stdout",
     "output_type": "stream",
     "text": [
      "peak memory: 209.25 MiB, increment: 0.00 MiB\n",
      "CPU times: total: 59.7 s\n",
      "Wall time: 1min 1s\n"
     ]
    }
   ],
   "source": [
    "%%time\n",
    "%memit csv2summary('supermarket_sales_mod.csv', index_list = ['City','Product line'], values_dict = {'gross income':'sum'})"
   ]
  },
  {
   "cell_type": "code",
   "execution_count": 314,
   "id": "c8a325a0-9c50-40a5-80ac-e5e672a0c892",
   "metadata": {},
   "outputs": [
    {
     "name": "stdout",
     "output_type": "stream",
     "text": [
      "peak memory: 6552.56 MiB, increment: 6343.31 MiB\n",
      "CPU times: total: 23.6 s\n",
      "Wall time: 24.6 s\n"
     ]
    }
   ],
   "source": [
    "%%time\n",
    "%memit pd.read_csv('supermarket_sales_mod.csv',low_memory=False).groupby(['City','Product line']).agg({'gross income':'sum'})"
   ]
  },
  {
   "cell_type": "markdown",
   "id": "13eb791a-104e-46ea-b413-a310cf69f7d0",
   "metadata": {},
   "source": [
    "The following cell modifies the memory usage bahavior in pandas by setting low_memory to True."
   ]
  },
  {
   "cell_type": "code",
   "execution_count": 315,
   "id": "996d966a-f33c-42f2-979f-e2547ac15e52",
   "metadata": {},
   "outputs": [
    {
     "name": "stdout",
     "output_type": "stream",
     "text": [
      "peak memory: 5610.12 MiB, increment: 5400.87 MiB\n",
      "CPU times: total: 22.4 s\n",
      "Wall time: 23.7 s\n"
     ]
    }
   ],
   "source": [
    "%%time\n",
    "%memit pd.read_csv('supermarket_sales_mod.csv', low_memory=True).groupby(['City','Product line']).agg({'gross income':'sum'})"
   ]
  },
  {
   "cell_type": "markdown",
   "id": "bef90555-74e0-49ca-8be0-8e00d7bb8d8d",
   "metadata": {},
   "source": [
    "### Conclusion.\n",
    "\n",
    "Even with multiple limitations, the proposed approach is a viable solution to summarize data in cases where memory is limited at the expense of greater processing time."
   ]
  }
 ],
 "metadata": {
  "kernelspec": {
   "display_name": "Python 3 (ipykernel)",
   "language": "python",
   "name": "python3"
  },
  "language_info": {
   "codemirror_mode": {
    "name": "ipython",
    "version": 3
   },
   "file_extension": ".py",
   "mimetype": "text/x-python",
   "name": "python",
   "nbconvert_exporter": "python",
   "pygments_lexer": "ipython3",
   "version": "3.12.2"
  }
 },
 "nbformat": 4,
 "nbformat_minor": 5
}
